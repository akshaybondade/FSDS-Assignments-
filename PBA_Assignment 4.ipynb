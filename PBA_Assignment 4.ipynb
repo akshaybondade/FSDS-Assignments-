{
 "cells": [
  {
   "cell_type": "markdown",
   "id": "7bacbd67",
   "metadata": {},
   "source": [
    "# 1. What exactly is []?"
   ]
  },
  {
   "cell_type": "code",
   "execution_count": null,
   "id": "5bc349c4",
   "metadata": {},
   "outputs": [],
   "source": [
    "Square brackets are the indexing operator.  \n",
    "\n",
    "When it contains a colon, it returns a slice, which is a sub-sequence of the sequence to which it is applied. "
   ]
  },
  {
   "cell_type": "markdown",
   "id": "bb560804",
   "metadata": {},
   "source": [
    "# 2. In a list of values stored in a variable called spam, how would you assign the value 'hello' as the third value? (Assume [2, 4, 6, 8, 10] are in spam.)\n",
    "\n",
    "Let's pretend the spam includes the list ['a', 'b', 'c', 'd'] for the next three queries."
   ]
  },
  {
   "cell_type": "code",
   "execution_count": 5,
   "id": "36d2d235",
   "metadata": {},
   "outputs": [
    {
     "data": {
      "text/plain": [
       "[2, 4, 'hello', 8, 10]"
      ]
     },
     "execution_count": 5,
     "metadata": {},
     "output_type": "execute_result"
    }
   ],
   "source": [
    "spam = [2,4,6,8,10]\n",
    "spam[2] = 'hello'\n",
    "spam"
   ]
  },
  {
   "cell_type": "markdown",
   "id": "3c6db44b",
   "metadata": {},
   "source": [
    "# 3. What is the value of spam[int(int('3' * 2) / 11)]?"
   ]
  },
  {
   "cell_type": "code",
   "execution_count": 6,
   "id": "d636f0ca",
   "metadata": {},
   "outputs": [
    {
     "data": {
      "text/plain": [
       "8"
      ]
     },
     "execution_count": 6,
     "metadata": {},
     "output_type": "execute_result"
    }
   ],
   "source": [
    "spam[int(int('3' * 2) / 11)]"
   ]
  },
  {
   "cell_type": "code",
   "execution_count": null,
   "id": "37f797e8",
   "metadata": {},
   "outputs": [],
   "source": [
    "Value = 8"
   ]
  },
  {
   "cell_type": "markdown",
   "id": "4238e9f7",
   "metadata": {},
   "source": [
    "# 4. What is the value of spam[-1]?"
   ]
  },
  {
   "cell_type": "code",
   "execution_count": null,
   "id": "755a327f",
   "metadata": {},
   "outputs": [],
   "source": [
    "10"
   ]
  },
  {
   "cell_type": "code",
   "execution_count": 7,
   "id": "e5f05bc9",
   "metadata": {},
   "outputs": [
    {
     "data": {
      "text/plain": [
       "10"
      ]
     },
     "execution_count": 7,
     "metadata": {},
     "output_type": "execute_result"
    }
   ],
   "source": [
    "spam[-1]"
   ]
  },
  {
   "cell_type": "markdown",
   "id": "8c3db04b",
   "metadata": {},
   "source": [
    "# 5. What is the value of spam[:2]? Let's pretend bacon has the list [3.14, 'cat,' 11, 'cat,' True] for the next three questions."
   ]
  },
  {
   "cell_type": "code",
   "execution_count": 41,
   "id": "f3e808a9",
   "metadata": {},
   "outputs": [
    {
     "data": {
      "text/plain": [
       "[2, 4]"
      ]
     },
     "execution_count": 41,
     "metadata": {},
     "output_type": "execute_result"
    }
   ],
   "source": [
    "bacon = [3.14, 'cat', 11, 'cat', True] \n",
    "spam[:2]"
   ]
  },
  {
   "cell_type": "markdown",
   "id": "60337f0c",
   "metadata": {},
   "source": [
    "# 6. What is the value of bacon.index('cat')?"
   ]
  },
  {
   "cell_type": "code",
   "execution_count": 42,
   "id": "5384b15f",
   "metadata": {},
   "outputs": [
    {
     "name": "stdout",
     "output_type": "stream",
     "text": [
      "cat 1\n"
     ]
    }
   ],
   "source": [
    "item = 'cat'\n",
    "index = bacon.index(item)\n",
    "print(item,index)"
   ]
  },
  {
   "cell_type": "code",
   "execution_count": 43,
   "id": "a90bf46c",
   "metadata": {},
   "outputs": [
    {
     "data": {
      "text/plain": [
       "1"
      ]
     },
     "execution_count": 43,
     "metadata": {},
     "output_type": "execute_result"
    }
   ],
   "source": [
    "bacon.index('cat')"
   ]
  },
  {
   "cell_type": "markdown",
   "id": "4225c6ac",
   "metadata": {},
   "source": [
    "# 7. How does bacon.append(99) change the look of the list value in bacon?"
   ]
  },
  {
   "cell_type": "code",
   "execution_count": 44,
   "id": "37ad6ad8",
   "metadata": {},
   "outputs": [
    {
     "data": {
      "text/plain": [
       "[3.14, 'cat', 11, 'cat', True, 99]"
      ]
     },
     "execution_count": 44,
     "metadata": {},
     "output_type": "execute_result"
    }
   ],
   "source": [
    "bacon.append(99)\n",
    "bacon"
   ]
  },
  {
   "cell_type": "markdown",
   "id": "9d7ac331",
   "metadata": {},
   "source": [
    "# 8. How does bacon.remove('cat') change the look of the list in bacon?"
   ]
  },
  {
   "cell_type": "code",
   "execution_count": 45,
   "id": "290ba4c5",
   "metadata": {},
   "outputs": [
    {
     "data": {
      "text/plain": [
       "[3.14, 11, 'cat', True, 99]"
      ]
     },
     "execution_count": 45,
     "metadata": {},
     "output_type": "execute_result"
    }
   ],
   "source": [
    "bacon.remove('cat')\n",
    "bacon"
   ]
  },
  {
   "cell_type": "markdown",
   "id": "80650702",
   "metadata": {},
   "source": [
    "# 9. What are the list concatenation and list replication operators?"
   ]
  },
  {
   "cell_type": "code",
   "execution_count": null,
   "id": "c4db2f8e",
   "metadata": {},
   "outputs": [],
   "source": [
    "The operator for list concatenation is +, while the operator for replication is *. \n",
    "(This is the same as for strings.)"
   ]
  },
  {
   "cell_type": "code",
   "execution_count": 46,
   "id": "62f27d79",
   "metadata": {},
   "outputs": [
    {
     "name": "stdout",
     "output_type": "stream",
     "text": [
      "[1, 2, 3, 4, 5, 5, 6, 7]\n",
      "[1, 2, 3, 4, 1, 2, 3, 4, 1, 2, 3, 4]\n"
     ]
    }
   ],
   "source": [
    "#Ex.\n",
    "l1 = [1,2,3,4]\n",
    "l2 = [5,5,6,7]\n",
    "l3 = l1 + l2\n",
    "l4 = l1 * 3\n",
    "print(l3)\n",
    "print(l4)"
   ]
  },
  {
   "cell_type": "markdown",
   "id": "50db1cbc",
   "metadata": {},
   "source": [
    "# 10. What is difference between the list methods append() and insert()?"
   ]
  },
  {
   "cell_type": "code",
   "execution_count": null,
   "id": "45c9b414",
   "metadata": {},
   "outputs": [],
   "source": [
    "While append() will add values only to the end of a list, insert() can add them anywhere in the list."
   ]
  },
  {
   "cell_type": "code",
   "execution_count": 47,
   "id": "19dc070f",
   "metadata": {},
   "outputs": [
    {
     "name": "stdout",
     "output_type": "stream",
     "text": [
      "[1, 2, 3, 4, '2']\n",
      "[5, 5, '10', 6, 7]\n"
     ]
    }
   ],
   "source": [
    "#Ex.\n",
    "l1.append('2')\n",
    "l2.insert(2,'10')\n",
    "print(l1)\n",
    "print(l2)"
   ]
  },
  {
   "cell_type": "markdown",
   "id": "4039bf5b",
   "metadata": {},
   "source": [
    "# 11. What are the two methods for removing items from a list?"
   ]
  },
  {
   "cell_type": "code",
   "execution_count": null,
   "id": "23b2e235",
   "metadata": {},
   "outputs": [],
   "source": [
    "pop and remove list method are two ways to remove values from a list."
   ]
  },
  {
   "cell_type": "code",
   "execution_count": 48,
   "id": "a8c4882b",
   "metadata": {},
   "outputs": [
    {
     "name": "stdout",
     "output_type": "stream",
     "text": [
      "[1, 2, 3, 4]\n",
      "[5, 5, 6, 7]\n"
     ]
    }
   ],
   "source": [
    "#Ex. \n",
    "l1.remove('2')\n",
    "print(l1)\n",
    "l2.pop(2)\n",
    "print(l2)"
   ]
  },
  {
   "cell_type": "markdown",
   "id": "4ac708d1",
   "metadata": {},
   "source": [
    "# 12. Describe how list values and string values are identical."
   ]
  },
  {
   "cell_type": "code",
   "execution_count": null,
   "id": "7b2e52a1",
   "metadata": {},
   "outputs": [],
   "source": [
    "Both lists and strings can be passed to len(), \n",
    "have indexes and slices, be used in for loops, \n",
    "be concatenated or replicated, \n",
    "and be used with the in and not in operators."
   ]
  },
  {
   "cell_type": "code",
   "execution_count": 50,
   "id": "cc9203dd",
   "metadata": {},
   "outputs": [
    {
     "name": "stdout",
     "output_type": "stream",
     "text": [
      "4\n",
      "4\n"
     ]
    }
   ],
   "source": [
    "a1 = [1,2,3,4]\n",
    "a2 = ['a','b','c','d']\n",
    "print(len(a1))\n",
    "print(len(a2))\n"
   ]
  },
  {
   "cell_type": "markdown",
   "id": "4e887d14",
   "metadata": {},
   "source": [
    "# 13. What's the difference between tuples and lists?"
   ]
  },
  {
   "cell_type": "code",
   "execution_count": null,
   "id": "c27119f1",
   "metadata": {},
   "outputs": [],
   "source": [
    "Lists are mutable, they can have values added, removed, or changed. \n",
    "Tuples are immutable, they cannot be changed at all. \n",
    "Also, tuples are written using parentheses, (), \n",
    "while lists use the square brackets, []"
   ]
  },
  {
   "cell_type": "markdown",
   "id": "ba8fa83f",
   "metadata": {},
   "source": [
    "# 14. How do you type a tuple value that only contains the integer 42?"
   ]
  },
  {
   "cell_type": "code",
   "execution_count": 52,
   "id": "8464540a",
   "metadata": {},
   "outputs": [
    {
     "name": "stdout",
     "output_type": "stream",
     "text": [
      "<class 'int'>\n",
      "<class 'tuple'>\n"
     ]
    }
   ],
   "source": [
    "a = (42)\n",
    "print(type(a))\n",
    "a1 = (42,)\n",
    "print(type(a1))\n",
    "\n",
    "#The trailing comma is mandatory"
   ]
  },
  {
   "cell_type": "markdown",
   "id": "49aef722",
   "metadata": {},
   "source": [
    "# 15. How do you get a list value's tuple form? How do you get a tuple value's list form?"
   ]
  },
  {
   "cell_type": "code",
   "execution_count": 5,
   "id": "eb3110e3",
   "metadata": {},
   "outputs": [
    {
     "name": "stdout",
     "output_type": "stream",
     "text": [
      "(1, 2, 3, 4, 4, 5, 6, 7)\n",
      "[1, 2, 3, 4, 4, 5, 6, 7]\n"
     ]
    }
   ],
   "source": [
    "l = [1,2,3,4,4,5,6,7]\n",
    "a = tuple(l)\n",
    "print(a)\n",
    "l = list(a)\n",
    "print(l)\n",
    "\n",
    "#tuple() and list() functions"
   ]
  },
  {
   "cell_type": "markdown",
   "id": "9a496351",
   "metadata": {},
   "source": [
    "# 16. Variables that \"contain\" list values are not necessarily lists themselves. Instead, what do they contain?"
   ]
  },
  {
   "cell_type": "code",
   "execution_count": null,
   "id": "7ba07c6f",
   "metadata": {},
   "outputs": [],
   "source": [
    "They contain references to list values."
   ]
  },
  {
   "cell_type": "markdown",
   "id": "a887244a",
   "metadata": {},
   "source": [
    "# 17. How do you distinguish between copy.copy() and copy.deepcopy()?"
   ]
  },
  {
   "cell_type": "code",
   "execution_count": null,
   "id": "cf53b57c",
   "metadata": {},
   "outputs": [],
   "source": [
    "The copy.copy() function will do a shallow copy of a list,\n",
    "while the copy.deepcopy() function will do a deep copy of a list. \n",
    "That is only copy.deepcopy() will duplicate any lists inside the list."
   ]
  },
  {
   "cell_type": "code",
   "execution_count": 7,
   "id": "7c5a547a",
   "metadata": {},
   "outputs": [
    {
     "name": "stdout",
     "output_type": "stream",
     "text": [
      "Original list:  [1, 2, [3, 4, 5], 6]\n",
      "Shallow copied list:  [1, 2, [3, 4, 5], 6]\n",
      "Modified deep copy list:  [1, 2, [3, 4, 5], 6, 7]\n",
      "Original list after modification to deep copy:  [1, 2, [3, 4, 5], 6]\n",
      "Modified shallow copy list:  [1, 2, [3, 4, 5], 6, 8]\n",
      "Original list after modification to shallow copy:  [1, 2, [3, 4, 5], 6]\n"
     ]
    }
   ],
   "source": [
    "import copy\n",
    "\n",
    "list1 = [1, 2, [3, 4, 5], 6]\n",
    "shallow_copy_list = copy.copy(list1)  # shallow copy\n",
    "list2 = list1   # also a shallow copy\n",
    "deep_copy_list = copy.deepcopy(list1)  # deep copy\n",
    "print(\"Original list: \", list1)\n",
    "print(\"Shallow copied list: \", list2)\n",
    "# Making modifications to the deep copy\n",
    "deep_copy_list.append(7)\n",
    "print(\"Modified deep copy list: \", deep_copy_list)\n",
    "print(\"Original list after modification to deep copy: \", list1)\n",
    "# Making modifications to shallow copy \n",
    "shallow_copy_list.append(8)\n",
    "print(\"Modified shallow copy list: \", shallow_copy_list)\n",
    "print(\"Original list after modification to shallow copy: \", list1)\n"
   ]
  }
 ],
 "metadata": {
  "kernelspec": {
   "display_name": "Python 3 (ipykernel)",
   "language": "python",
   "name": "python3"
  },
  "language_info": {
   "codemirror_mode": {
    "name": "ipython",
    "version": 3
   },
   "file_extension": ".py",
   "mimetype": "text/x-python",
   "name": "python",
   "nbconvert_exporter": "python",
   "pygments_lexer": "ipython3",
   "version": "3.9.7"
  }
 },
 "nbformat": 4,
 "nbformat_minor": 5
}
