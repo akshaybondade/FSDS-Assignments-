{
 "cells": [
  {
   "cell_type": "markdown",
   "id": "7bacbd67",
   "metadata": {},
   "source": [
    "# 1. In the below elements which of them are values or an expression? \n",
    "eg:- values can be integer or string and expressions will be mathematical operators."
   ]
  },
  {
   "cell_type": "code",
   "execution_count": null,
   "id": "5bc349c4",
   "metadata": {},
   "outputs": [],
   "source": [
    "*       --> This is a mathematical operator use to multiple (expression)\n",
    "'hello' --> This is a string (value)\n",
    "-87.8   --> This is an integer (value)\n",
    "-       --> This is a mathematical operator use to substract (expression)\n",
    "/       --> This is a mathematical operator use to divide (expression)\n",
    "+       --> This is a mathematical operator use to add (expression)\n",
    "6       --> This is an integer (value)"
   ]
  },
  {
   "cell_type": "markdown",
   "id": "4f9d56b4",
   "metadata": {},
   "source": [
    "# 2. What is the difference between string and variable?"
   ]
  },
  {
   "cell_type": "code",
   "execution_count": null,
   "id": "36d2d235",
   "metadata": {},
   "outputs": [],
   "source": [
    "String is a value i.e representing a text\n",
    "\n",
    "Variable is a name that can refer to any value\n",
    "\n",
    "for example:\n",
    "\n",
    "A = \"Akshay\" \n",
    "Here \"Akshay\" is string\n",
    "where A is a variable"
   ]
  },
  {
   "cell_type": "markdown",
   "id": "d313323b",
   "metadata": {},
   "source": [
    "# 3. Describe three different data types."
   ]
  },
  {
   "cell_type": "code",
   "execution_count": 18,
   "id": "cc3bf32f",
   "metadata": {},
   "outputs": [],
   "source": [
    "Variables can store data of different types, and different types can do different things\n",
    "\n",
    "Lists,Sets and Tuple are used to store multiple items in a single variable.\n",
    "\n",
    "List items are ordered, changeable, and allow duplicate values.\n",
    "The list is changeable, meaning that we can change, add, and remove items in a list after it has been created.\n",
    "\n",
    "Ex.    list = x = [1,'a',1.0, True, 4+5j]\n",
    "\n",
    "Set items are unordered, unchangeable, and do not allow duplicate values.\n",
    "The items in a set do not have a defined order.\n",
    "We cannot change the items after the set has been created.\n",
    "\n",
    "Ex.    set = x1 = {1,'a',1.0, True, 4+5j}\n",
    "    \n",
    "Tuple items are ordered, unchangeable, and allow duplicate values.\n",
    "The items have a defined order, and that order will not change.\n",
    "We cannot change, add or remove items after the tuple has been created.    \n",
    "\n",
    "Ex.    tuple = x2 = (1,'a',1.0, True, 4+5j)\n",
    "\n"
   ]
  },
  {
   "cell_type": "markdown",
   "id": "4238e9f7",
   "metadata": {},
   "source": [
    "# 4. What is an expression made up of? What do all expressions do?"
   ]
  },
  {
   "cell_type": "code",
   "execution_count": null,
   "id": "5e01f90a",
   "metadata": {},
   "outputs": [],
   "source": [
    "Expression is made up of values and operator. All expressions evaluate into single value.  "
   ]
  },
  {
   "cell_type": "markdown",
   "id": "4225c6ac",
   "metadata": {},
   "source": [
    "# 5. This assignment statements, like spam = 10. What is the difference between an expression and a statement?"
   ]
  },
  {
   "cell_type": "code",
   "execution_count": null,
   "id": "37ad6ad8",
   "metadata": {},
   "outputs": [],
   "source": [
    "A statement is something that does something. An expression is something that evaluates to some value\n",
    "print(\"Hello World\") is a statement where\n",
    "5 + 3 is an expression "
   ]
  },
  {
   "cell_type": "markdown",
   "id": "9d7ac331",
   "metadata": {},
   "source": [
    "# 6. After running the following code, what does the variable bacon contain?\n",
    "bacon = 22\n",
    "\n",
    "bacon + 1"
   ]
  },
  {
   "cell_type": "code",
   "execution_count": null,
   "id": "290ba4c5",
   "metadata": {},
   "outputs": [],
   "source": [
    "Ans. will be 23"
   ]
  },
  {
   "cell_type": "code",
   "execution_count": 34,
   "id": "2f9c3822",
   "metadata": {},
   "outputs": [
    {
     "data": {
      "text/plain": [
       "23"
      ]
     },
     "execution_count": 34,
     "metadata": {},
     "output_type": "execute_result"
    }
   ],
   "source": [
    "bacon = 22\n",
    "\n",
    "bacon + 1"
   ]
  },
  {
   "cell_type": "markdown",
   "id": "80650702",
   "metadata": {},
   "source": [
    "# 7. What should the values of the following two terms be?\n",
    "'spam' + 'spamspam'\n",
    "\n",
    "'spam' * 3 "
   ]
  },
  {
   "cell_type": "code",
   "execution_count": 19,
   "id": "621d33e5",
   "metadata": {},
   "outputs": [
    {
     "data": {
      "text/plain": [
       "'spamspamspam'"
      ]
     },
     "execution_count": 19,
     "metadata": {},
     "output_type": "execute_result"
    }
   ],
   "source": [
    "'spam' + 'spamspam'"
   ]
  },
  {
   "cell_type": "code",
   "execution_count": 20,
   "id": "79651a13",
   "metadata": {},
   "outputs": [
    {
     "data": {
      "text/plain": [
       "'spamspamspam'"
      ]
     },
     "execution_count": 20,
     "metadata": {},
     "output_type": "execute_result"
    }
   ],
   "source": [
    "'spam' * 3"
   ]
  },
  {
   "cell_type": "code",
   "execution_count": null,
   "id": "80d83cdf",
   "metadata": {},
   "outputs": [],
   "source": [
    "The end result will be same of both two terms "
   ]
  },
  {
   "cell_type": "markdown",
   "id": "864061b9",
   "metadata": {},
   "source": [
    "# 8. Why is eggs a valid variable name while 100 is invalid?"
   ]
  },
  {
   "cell_type": "code",
   "execution_count": 32,
   "id": "f614076d",
   "metadata": {},
   "outputs": [],
   "source": [
    "eggs = 100"
   ]
  },
  {
   "cell_type": "code",
   "execution_count": 33,
   "id": "18148344",
   "metadata": {},
   "outputs": [
    {
     "ename": "SyntaxError",
     "evalue": "cannot assign to literal (Temp/ipykernel_24280/118181846.py, line 1)",
     "output_type": "error",
     "traceback": [
      "\u001b[1;36m  File \u001b[1;32m\"C:\\Users\\8915\\AppData\\Local\\Temp/ipykernel_24280/118181846.py\"\u001b[1;36m, line \u001b[1;32m1\u001b[0m\n\u001b[1;33m    100 = eggs\u001b[0m\n\u001b[1;37m    ^\u001b[0m\n\u001b[1;31mSyntaxError\u001b[0m\u001b[1;31m:\u001b[0m cannot assign to literal\n"
     ]
    }
   ],
   "source": [
    "100 = eggs "
   ]
  },
  {
   "cell_type": "code",
   "execution_count": null,
   "id": "4cdbecd7",
   "metadata": {},
   "outputs": [],
   "source": [
    "Because integers cannot use to assign to literal"
   ]
  },
  {
   "cell_type": "markdown",
   "id": "4039bf5b",
   "metadata": {},
   "source": [
    "# 9. What three functions can be used to get the integer, floating-point number, or string version of a value?"
   ]
  },
  {
   "cell_type": "code",
   "execution_count": 27,
   "id": "65062797",
   "metadata": {},
   "outputs": [
    {
     "ename": "SyntaxError",
     "evalue": "invalid syntax (Temp/ipykernel_24280/2036272878.py, line 1)",
     "output_type": "error",
     "traceback": [
      "\u001b[1;36m  File \u001b[1;32m\"C:\\Users\\8915\\AppData\\Local\\Temp/ipykernel_24280/2036272878.py\"\u001b[1;36m, line \u001b[1;32m1\u001b[0m\n\u001b[1;33m    int() is used to get integer value\u001b[0m\n\u001b[1;37m                  ^\u001b[0m\n\u001b[1;31mSyntaxError\u001b[0m\u001b[1;31m:\u001b[0m invalid syntax\n"
     ]
    }
   ],
   "source": [
    "int() is used to get integer value\n",
    "float() is used to get floating value\n",
    "str() is used to get str value"
   ]
  },
  {
   "cell_type": "code",
   "execution_count": 29,
   "id": "eccc64cc",
   "metadata": {},
   "outputs": [
    {
     "data": {
      "text/plain": [
       "int"
      ]
     },
     "execution_count": 29,
     "metadata": {},
     "output_type": "execute_result"
    }
   ],
   "source": [
    "a = 10.0\n",
    "type(int(a))"
   ]
  },
  {
   "cell_type": "code",
   "execution_count": 30,
   "id": "32b2dcc7",
   "metadata": {},
   "outputs": [
    {
     "data": {
      "text/plain": [
       "float"
      ]
     },
     "execution_count": 30,
     "metadata": {},
     "output_type": "execute_result"
    }
   ],
   "source": [
    "type(a)"
   ]
  },
  {
   "cell_type": "code",
   "execution_count": 31,
   "id": "f22a434d",
   "metadata": {},
   "outputs": [
    {
     "data": {
      "text/plain": [
       "str"
      ]
     },
     "execution_count": 31,
     "metadata": {},
     "output_type": "execute_result"
    }
   ],
   "source": [
    "type(str(a))"
   ]
  },
  {
   "cell_type": "markdown",
   "id": "4ac708d1",
   "metadata": {},
   "source": [
    "# 10. Why does this expression cause an error? How can you fix it?\n",
    "'I have eaten' + 99 + 'burritos'"
   ]
  },
  {
   "cell_type": "code",
   "execution_count": null,
   "id": "7b2e52a1",
   "metadata": {},
   "outputs": [],
   "source": [
    "'I have eaten' is string \n",
    "99 is integer\n",
    "'burritos' is string\n",
    "\n",
    "Concatenation operation is always done between string-string and int-int \n",
    "To fix this issue:\n",
    "\n",
    "We need to convert 99 into string \n",
    "\n",
    "'I have eaten' + '99' + 'burritos'"
   ]
  },
  {
   "cell_type": "code",
   "execution_count": 23,
   "id": "343e91e4",
   "metadata": {},
   "outputs": [
    {
     "ename": "TypeError",
     "evalue": "can only concatenate str (not \"int\") to str",
     "output_type": "error",
     "traceback": [
      "\u001b[1;31m---------------------------------------------------------------------------\u001b[0m",
      "\u001b[1;31mTypeError\u001b[0m                                 Traceback (most recent call last)",
      "\u001b[1;32m~\\AppData\\Local\\Temp/ipykernel_24280/2733022945.py\u001b[0m in \u001b[0;36m<module>\u001b[1;34m\u001b[0m\n\u001b[1;32m----> 1\u001b[1;33m \u001b[1;34m'I have eaten'\u001b[0m \u001b[1;33m+\u001b[0m \u001b[1;36m99\u001b[0m \u001b[1;33m+\u001b[0m \u001b[1;34m'burritos'\u001b[0m\u001b[1;33m\u001b[0m\u001b[1;33m\u001b[0m\u001b[0m\n\u001b[0m",
      "\u001b[1;31mTypeError\u001b[0m: can only concatenate str (not \"int\") to str"
     ]
    }
   ],
   "source": [
    "'I have eaten' + 99 + 'burritos'"
   ]
  },
  {
   "cell_type": "code",
   "execution_count": 35,
   "id": "8a303805",
   "metadata": {},
   "outputs": [
    {
     "data": {
      "text/plain": [
       "'I have eaten 99 burritos'"
      ]
     },
     "execution_count": 35,
     "metadata": {},
     "output_type": "execute_result"
    }
   ],
   "source": [
    "'I have eaten' + ' 99 ' + 'burritos'"
   ]
  },
  {
   "cell_type": "code",
   "execution_count": null,
   "id": "9caae008",
   "metadata": {},
   "outputs": [],
   "source": []
  }
 ],
 "metadata": {
  "kernelspec": {
   "display_name": "Python 3 (ipykernel)",
   "language": "python",
   "name": "python3"
  },
  "language_info": {
   "codemirror_mode": {
    "name": "ipython",
    "version": 3
   },
   "file_extension": ".py",
   "mimetype": "text/x-python",
   "name": "python",
   "nbconvert_exporter": "python",
   "pygments_lexer": "ipython3",
   "version": "3.9.7"
  }
 },
 "nbformat": 4,
 "nbformat_minor": 5
}
