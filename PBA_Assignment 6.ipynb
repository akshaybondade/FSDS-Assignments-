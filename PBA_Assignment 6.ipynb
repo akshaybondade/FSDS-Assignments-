{
 "cells": [
  {
   "cell_type": "markdown",
   "id": "be2dd124",
   "metadata": {},
   "source": [
    "# 1. What are escape characters, and how do you use them?"
   ]
  },
  {
   "cell_type": "code",
   "execution_count": 3,
   "id": "49908547",
   "metadata": {},
   "outputs": [
    {
     "name": "stdout",
     "output_type": "stream",
     "text": [
      "To quote a great philosopher - \"It's Tricky\"\n"
     ]
    }
   ],
   "source": [
    "test = \"To quote a great philosopher - \\\"It's Tricky\\\"\"\n",
    "print (test)\n",
    "'''\n",
    "In Python strings, the backslash \"\\\" is a special character, also called the \"escape\" character. \n",
    "It is used in representing certain whitespace characters: \n",
    "    \"\\t\" is a tab, \n",
    "    \"\\n\" is a newline, and \n",
    "    \"\\r\" is a carriage return'''"
   ]
  },
  {
   "cell_type": "markdown",
   "id": "b04155c7",
   "metadata": {},
   "source": [
    "# 2. What do the escape characters n and t stand for?"
   ]
  },
  {
   "cell_type": "code",
   "execution_count": 6,
   "id": "c22ff07d",
   "metadata": {},
   "outputs": [
    {
     "name": "stdout",
     "output_type": "stream",
     "text": [
      "People lives in Earth\n",
      "People lives in \n",
      "Earth\n",
      "People lives in \tEarth\n"
     ]
    }
   ],
   "source": [
    "print(\"People lives in Earth\")\n",
    "#\\n gives newline\n",
    "print(\"People lives in \\nEarth\")\n",
    "\n",
    "#\\t gives tab\n",
    "print(\"People lives in \\tEarth\")\n",
    "\n"
   ]
  },
  {
   "cell_type": "markdown",
   "id": "090c4e22",
   "metadata": {},
   "source": [
    "# 3. What is the way to include backslash characters in a string?"
   ]
  },
  {
   "cell_type": "code",
   "execution_count": 8,
   "id": "96fb1b76",
   "metadata": {},
   "outputs": [
    {
     "name": "stdout",
     "output_type": "stream",
     "text": [
      "People lives in \\ Earth\n"
     ]
    }
   ],
   "source": [
    "print(\"People lives in \\\\ Earth\")"
   ]
  },
  {
   "cell_type": "markdown",
   "id": "7f8ba8e9",
   "metadata": {},
   "source": [
    "# 4. The string \"Howl's Moving Castle\" is a correct value. Why isn't the single quote character in the word Howl's not escaped a problem?"
   ]
  },
  {
   "cell_type": "code",
   "execution_count": null,
   "id": "331feb4d",
   "metadata": {},
   "outputs": [],
   "source": [
    "'''The single quote in Howl's is fine because you've used double quotes to mark the beginning and end of the string. \n",
    "like wise we can use double quotes in with single quotes.'''"
   ]
  },
  {
   "cell_type": "code",
   "execution_count": 9,
   "id": "c3c64b14",
   "metadata": {},
   "outputs": [
    {
     "name": "stdout",
     "output_type": "stream",
     "text": [
      "Howl's Moving Castle\n"
     ]
    }
   ],
   "source": [
    "print(\"Howl's Moving Castle\")"
   ]
  },
  {
   "cell_type": "markdown",
   "id": "d84a8291",
   "metadata": {},
   "source": [
    "# 5. How do you write a string of newlines if you don't want to use the n character?"
   ]
  },
  {
   "cell_type": "code",
   "execution_count": 12,
   "id": "411c4f32",
   "metadata": {},
   "outputs": [
    {
     "name": "stdout",
     "output_type": "stream",
     "text": [
      "Put your hands on my shoulder\n",
      "Baby shark do do do do\n"
     ]
    }
   ],
   "source": [
    "#While using the parameter end ='\\n' in print function\n",
    "print(\"Put your hands on my shoulder\",end='\\n')\n",
    "print(\"Baby shark do do do do\")"
   ]
  },
  {
   "cell_type": "markdown",
   "id": "b6e2ef71",
   "metadata": {},
   "source": [
    "# 6. What are the values of the given expressions?\n",
    "\n",
    "'Hello, world!'[1]\n",
    "\n",
    "'Hello, world!'[0:5]\n",
    "\n",
    "'Hello, world!'[:5]\n",
    "\n",
    "'Hello, world!'[3:]"
   ]
  },
  {
   "cell_type": "code",
   "execution_count": 17,
   "id": "799a7b64",
   "metadata": {},
   "outputs": [
    {
     "data": {
      "text/plain": [
       "'e'"
      ]
     },
     "execution_count": 17,
     "metadata": {},
     "output_type": "execute_result"
    }
   ],
   "source": [
    "'Hello, world!'[1]"
   ]
  },
  {
   "cell_type": "code",
   "execution_count": 18,
   "id": "660d8f17",
   "metadata": {},
   "outputs": [
    {
     "data": {
      "text/plain": [
       "'Hello'"
      ]
     },
     "execution_count": 18,
     "metadata": {},
     "output_type": "execute_result"
    }
   ],
   "source": [
    "'Hello, world!'[0:5]"
   ]
  },
  {
   "cell_type": "code",
   "execution_count": 19,
   "id": "7ebc95a6",
   "metadata": {},
   "outputs": [
    {
     "data": {
      "text/plain": [
       "'Hello'"
      ]
     },
     "execution_count": 19,
     "metadata": {},
     "output_type": "execute_result"
    }
   ],
   "source": [
    "'Hello, world!'[:5]"
   ]
  },
  {
   "cell_type": "code",
   "execution_count": 20,
   "id": "fbbf3a3f",
   "metadata": {},
   "outputs": [
    {
     "data": {
      "text/plain": [
       "'lo, world!'"
      ]
     },
     "execution_count": 20,
     "metadata": {},
     "output_type": "execute_result"
    }
   ],
   "source": [
    "'Hello, world!'[3:]"
   ]
  },
  {
   "cell_type": "markdown",
   "id": "561f02ee",
   "metadata": {},
   "source": [
    "# 7. What are the values of the following expressions?\n",
    "'Hello'.upper()\n",
    "\n",
    "'Hello'.upper().isupper()\n",
    "\n",
    "'Hello'.upper().lower()"
   ]
  },
  {
   "cell_type": "code",
   "execution_count": 21,
   "id": "390b621b",
   "metadata": {},
   "outputs": [
    {
     "data": {
      "text/plain": [
       "'HELLO'"
      ]
     },
     "execution_count": 21,
     "metadata": {},
     "output_type": "execute_result"
    }
   ],
   "source": [
    "'Hello'.upper()"
   ]
  },
  {
   "cell_type": "code",
   "execution_count": 22,
   "id": "71d5cd79",
   "metadata": {},
   "outputs": [
    {
     "data": {
      "text/plain": [
       "True"
      ]
     },
     "execution_count": 22,
     "metadata": {},
     "output_type": "execute_result"
    }
   ],
   "source": [
    "'Hello'.upper().isupper()"
   ]
  },
  {
   "cell_type": "code",
   "execution_count": 25,
   "id": "37aebfc3",
   "metadata": {},
   "outputs": [
    {
     "data": {
      "text/plain": [
       "'hello'"
      ]
     },
     "execution_count": 25,
     "metadata": {},
     "output_type": "execute_result"
    }
   ],
   "source": [
    "'Hello'.upper().lower()"
   ]
  },
  {
   "cell_type": "markdown",
   "id": "c66bf36b",
   "metadata": {},
   "source": [
    "# 8. What are the values of the following expressions?\n",
    "'Remember, remember, the fifth of July.'.split()\n",
    "\n",
    "'-'.join('There can only one.'.split())"
   ]
  },
  {
   "cell_type": "code",
   "execution_count": 26,
   "id": "b1fbff5f",
   "metadata": {},
   "outputs": [
    {
     "data": {
      "text/plain": [
       "['Remember,', 'remember,', 'the', 'fifth', 'of', 'July.']"
      ]
     },
     "execution_count": 26,
     "metadata": {},
     "output_type": "execute_result"
    }
   ],
   "source": [
    "'Remember, remember, the fifth of July.'.split()"
   ]
  },
  {
   "cell_type": "code",
   "execution_count": 27,
   "id": "a88cb3c9",
   "metadata": {},
   "outputs": [
    {
     "data": {
      "text/plain": [
       "'There-can-only-one.'"
      ]
     },
     "execution_count": 27,
     "metadata": {},
     "output_type": "execute_result"
    }
   ],
   "source": [
    "'-'.join('There can only one.'.split())"
   ]
  },
  {
   "cell_type": "markdown",
   "id": "877b5fc2",
   "metadata": {},
   "source": [
    "# 9. What are the methods for right-justifying, left-justifying, and centering a string?"
   ]
  },
  {
   "cell_type": "code",
   "execution_count": null,
   "id": "98ab8f39",
   "metadata": {},
   "outputs": [],
   "source": [
    "'''The following methods are used for justifying strings\n",
    "ljust()\n",
    "rjust()\n",
    "center()'''"
   ]
  },
  {
   "cell_type": "code",
   "execution_count": 30,
   "id": "9f407bd6",
   "metadata": {},
   "outputs": [
    {
     "data": {
      "text/plain": [
       "'Akshay****'"
      ]
     },
     "execution_count": 30,
     "metadata": {},
     "output_type": "execute_result"
    }
   ],
   "source": [
    "# left justified\n",
    "str =\"Akshay\"\n",
    "str.ljust(10,\"*\")"
   ]
  },
  {
   "cell_type": "code",
   "execution_count": 32,
   "id": "25e37a7e",
   "metadata": {},
   "outputs": [
    {
     "data": {
      "text/plain": [
       "'****Akshay'"
      ]
     },
     "execution_count": 32,
     "metadata": {},
     "output_type": "execute_result"
    }
   ],
   "source": [
    "# right justified\n",
    "str =\"Akshay\"\n",
    "str.rjust(10,'*')"
   ]
  },
  {
   "cell_type": "code",
   "execution_count": 34,
   "id": "9a9b6ee9",
   "metadata": {},
   "outputs": [
    {
     "data": {
      "text/plain": [
       "'*******Akshay*******'"
      ]
     },
     "execution_count": 34,
     "metadata": {},
     "output_type": "execute_result"
    }
   ],
   "source": [
    "# center justified\n",
    "str =\"Akshay\"\n",
    "str.center(20,'*')"
   ]
  },
  {
   "cell_type": "markdown",
   "id": "d260fa2b",
   "metadata": {},
   "source": [
    "# 10. What is the best way to remove whitespace characters from the start or end?"
   ]
  },
  {
   "cell_type": "code",
   "execution_count": null,
   "id": "11730fec",
   "metadata": {},
   "outputs": [],
   "source": [
    "'''lstrip() -> removes white spaces from left of the string\n",
    "rstrip() -> removes whitespaces from right of the string'''"
   ]
  },
  {
   "cell_type": "code",
   "execution_count": 36,
   "id": "3d2d86b4",
   "metadata": {},
   "outputs": [
    {
     "data": {
      "text/plain": [
       "'Akshay      '"
      ]
     },
     "execution_count": 36,
     "metadata": {},
     "output_type": "execute_result"
    }
   ],
   "source": [
    "str =\"     Akshay      \"\n",
    "str.lstrip()"
   ]
  },
  {
   "cell_type": "code",
   "execution_count": 35,
   "id": "2b86be71",
   "metadata": {},
   "outputs": [
    {
     "data": {
      "text/plain": [
       "'     Akshay'"
      ]
     },
     "execution_count": 35,
     "metadata": {},
     "output_type": "execute_result"
    }
   ],
   "source": [
    "str =\"     Akshay      \"\n",
    "str.rstrip()"
   ]
  }
 ],
 "metadata": {
  "kernelspec": {
   "display_name": "Python 3 (ipykernel)",
   "language": "python",
   "name": "python3"
  },
  "language_info": {
   "codemirror_mode": {
    "name": "ipython",
    "version": 3
   },
   "file_extension": ".py",
   "mimetype": "text/x-python",
   "name": "python",
   "nbconvert_exporter": "python",
   "pygments_lexer": "ipython3",
   "version": "3.9.7"
  }
 },
 "nbformat": 4,
 "nbformat_minor": 5
}
